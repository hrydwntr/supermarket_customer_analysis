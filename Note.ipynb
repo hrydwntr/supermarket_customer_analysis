{
 "cells": [
  {
   "attachments": {},
   "cell_type": "markdown",
   "metadata": {},
   "source": [
    "Pertanyaan:\n",
    "1. ~~tidak ada nama column Z_CostContact & Z_Revenue di data dictionary~~\n",
    "2. ~~di column Marital_Status value married ada 2 outlier~~\n",
    "3. Di Promotion column *NumDealsPurchases* yang deal ko banyak yang beli tapi engga menerima discount\n",
    "4. \n",
    "\n",
    "Terjawab:\n",
    "1. drop column Z_CostContact & Z_Revenue\n",
    "2. drop outlier di column marital_status dengan value married \n",
    "3. \n",
    "EDA:\n",
    "1. Products:\n",
    "    1. yang beli wine\n",
    "    2. "
   ]
  },
  {
   "attachments": {},
   "cell_type": "markdown",
   "metadata": {},
   "source": [
    "## Marketing Campaign\n",
    "Tema 'increasing profitability'\n",
    "Strategies to increase profits based on the result\n",
    "\n",
    "Problem Statement\n",
    "1. karena 80% pembeli dikuasai Baby boomers & Generasi X dan umur mereka paling muda adalah 44th dan 5 tahun lagi sudah masuk usia 50 maka untuk memperpanjang umur produk target pasar selanjutnya generasi berikutnya yaitu Milenial & Gen Z\n",
    "2. yang pembeliannya diatas 3 bulan di khawatirkan tidak melakukan pembelian lagi, maka dari itu target selanjutnya adalah mengembalikan pembeli yang sudah 3 bulan tidak beli\n"
   ]
  },
  {
   "attachments": {},
   "cell_type": "markdown",
   "metadata": {},
   "source": [
    "## Insight Campaign\n",
    "Tema 'mengetahui campaign yang sedang dijalankan'\n",
    "\n",
    "1. Berdasarkan umur\n",
    "2. berdarkan pendapatan, diskon vs pendapatan\n",
    "3. berdasarkan terakhir pembelian\n",
    "4. berdasarkan edukasi apakah ada korelasi antara pendidikan dan kesadaran belanja\n",
    "5. berdasarkan edukasi apakah ada korelasi antara pendidikan dan apa yang mereka beli\n",
    "6. bedasarkan marital_status, kebanyakan yang statusnya apa si yang beli diskon dan beli tampa diskon\n",
    "7. berdasarkan marital_status, yang sering beli dari kolom status pembelian mana si yang sering beli\n",
    "8. yang paling sering visit siapa aja si"
   ]
  },
  {
   "attachments": {},
   "cell_type": "markdown",
   "metadata": {},
   "source": [
    "## Insight Campaign 2\n",
    "1. Mengidentifikasi dan memahami kinerja kampanye tingkat konversi, jumlah penjualan, dan angka pengunjung website, visit store & baca katalog\n",
    "2. Menganalisis perilaku pelanggan, menganalisis perilaku pelanggan, faktor-faktor yang mempengaruhi keputusan pembelian\n",
    "3. Meningkatkan targeting kampanye, mengidentifikasi segmen pelanggan yang paling responsif terhadap kampanye\n",
    "4. Meningkatkan pengalaman pelanggan"
   ]
  },
  {
   "attachments": {},
   "cell_type": "markdown",
   "metadata": {},
   "source": [
    "## Analisa campaign 3\n",
    "1. melihat berdasarkan terakhir pembelian\n",
    "2. dari berapa banyak campaign 1 - 5 yang sebelumnya ngerespon dan tidak\n",
    "3. perbandingan income dan uang yang dikeluarkan dalam belanja produk"
   ]
  },
  {
   "attachments": {},
   "cell_type": "markdown",
   "metadata": {},
   "source": [
    "# Final Problem Statement\n",
    "[Road Map](https://whimsical.com/road-map-analysis-4XLXoX6Vt6rZWdk7UnEGej)"
   ]
  }
 ],
 "metadata": {
  "kernelspec": {
   "display_name": "Python 3",
   "language": "python",
   "name": "python3"
  },
  "language_info": {
   "codemirror_mode": {
    "name": "ipython",
    "version": 3
   },
   "file_extension": ".py",
   "mimetype": "text/x-python",
   "name": "python",
   "nbconvert_exporter": "python",
   "pygments_lexer": "ipython3",
   "version": "3.11.2"
  },
  "orig_nbformat": 4
 },
 "nbformat": 4,
 "nbformat_minor": 2
}
